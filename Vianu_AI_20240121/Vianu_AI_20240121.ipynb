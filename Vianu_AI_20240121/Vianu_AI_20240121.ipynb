{
  "nbformat": 4,
  "nbformat_minor": 0,
  "metadata": {
    "colab": {
      "provenance": []
    },
    "kernelspec": {
      "name": "python3",
      "display_name": "Python 3"
    },
    "language_info": {
      "name": "python"
    }
  },
  "cells": [
    {
      "cell_type": "markdown",
      "source": [
        "**Reading from input**"
      ],
      "metadata": {
        "id": "VSdCd5Vtoyxs"
      }
    },
    {
      "cell_type": "code",
      "source": [
        "a = input()\n",
        "print( type(a) )\n",
        "a = int(a)\n",
        "print( type(a) )"
      ],
      "metadata": {
        "colab": {
          "base_uri": "https://localhost:8080/"
        },
        "id": "Ep536yv1V3dO",
        "outputId": "9c1d88a0-cc99-40e5-e90b-56842ee7eeda"
      },
      "execution_count": 21,
      "outputs": [
        {
          "output_type": "stream",
          "name": "stdout",
          "text": [
            "5\n",
            "<class 'str'>\n",
            "<class 'int'>\n"
          ]
        }
      ]
    },
    {
      "cell_type": "code",
      "source": [
        "command = input(\"What’s your command? \")\n",
        "command"
      ],
      "metadata": {
        "colab": {
          "base_uri": "https://localhost:8080/",
          "height": 53
        },
        "id": "uczJZGimoyJ-",
        "outputId": "95831082-2392-441b-854a-b7b24df343fe"
      },
      "execution_count": 2,
      "outputs": [
        {
          "name": "stdout",
          "output_type": "stream",
          "text": [
            "What’s your command? hello\n"
          ]
        },
        {
          "output_type": "execute_result",
          "data": {
            "text/plain": [
              "'hello'"
            ],
            "application/vnd.google.colaboratory.intrinsic+json": {
              "type": "string"
            }
          },
          "metadata": {},
          "execution_count": 2
        }
      ]
    },
    {
      "cell_type": "markdown",
      "source": [
        "**Printing**"
      ],
      "metadata": {
        "id": "_-bpECRdN86z"
      }
    },
    {
      "cell_type": "code",
      "source": [
        "print(\"Hello World!\")\n",
        "\n",
        "place = \"Paris\"\n",
        "print(\"City: \" + place)"
      ],
      "metadata": {
        "colab": {
          "base_uri": "https://localhost:8080/"
        },
        "id": "qrefyf7qN4Ph",
        "outputId": "9ecd05e7-1352-4aa5-f1b8-b36d9448e516"
      },
      "execution_count": 8,
      "outputs": [
        {
          "output_type": "stream",
          "name": "stdout",
          "text": [
            "Hello World!\n",
            "City: Paris\n"
          ]
        }
      ]
    },
    {
      "cell_type": "markdown",
      "source": [
        "**Variable types**"
      ],
      "metadata": {
        "id": "fTToYR-VOO4E"
      }
    },
    {
      "cell_type": "code",
      "source": [
        "# Define an integer\n",
        "our_integer = 5\n",
        "\n",
        "# Define a float\n",
        "our_float = 3.65\n",
        "\n",
        "# Define a string\n",
        "our_string = 'Hello'\n",
        "\n",
        "print( type(our_float))"
      ],
      "metadata": {
        "id": "H7eQCrqFOPeS",
        "colab": {
          "base_uri": "https://localhost:8080/"
        },
        "outputId": "c8eb1ff6-f49c-4a47-c803-c582f9092c10"
      },
      "execution_count": 10,
      "outputs": [
        {
          "output_type": "stream",
          "name": "stdout",
          "text": [
            "<class 'float'>\n"
          ]
        }
      ]
    },
    {
      "cell_type": "code",
      "source": [
        "# From number to string\n",
        "\n",
        "number = 0\n",
        "print(\"I am \" + str(number) + \" years old!\")"
      ],
      "metadata": {
        "colab": {
          "base_uri": "https://localhost:8080/"
        },
        "id": "xuZ095cdOYbz",
        "outputId": "28656396-fae0-482d-c737-6df1f7854356"
      },
      "execution_count": null,
      "outputs": [
        {
          "output_type": "stream",
          "name": "stdout",
          "text": [
            "I am 0 years old!\n"
          ]
        }
      ]
    },
    {
      "cell_type": "markdown",
      "source": [
        "**Functions**"
      ],
      "metadata": {
        "id": "-rXA09GTOrCO"
      }
    },
    {
      "cell_type": "code",
      "source": [
        "def sum(a, b):\n",
        "  print(a + b)\n",
        "\n",
        "a = 5\n",
        "b = 10\n",
        "sum(a, b)\n",
        "sum(\"hello\", \" world\")"
      ],
      "metadata": {
        "colab": {
          "base_uri": "https://localhost:8080/"
        },
        "id": "0dYZ6R4lUc31",
        "outputId": "f44f3759-3446-46ff-d78e-ca1b3f6037ae"
      },
      "execution_count": 13,
      "outputs": [
        {
          "output_type": "stream",
          "name": "stdout",
          "text": [
            "15\n",
            "hello world\n"
          ]
        }
      ]
    },
    {
      "cell_type": "code",
      "source": [
        "def hello():\n",
        "  print(\"Hi!\")\n",
        "\n",
        "hello()"
      ],
      "metadata": {
        "colab": {
          "base_uri": "https://localhost:8080/"
        },
        "id": "c3rcbgjuOaqx",
        "outputId": "9552e708-c834-455a-8353-f45ab533314f"
      },
      "execution_count": null,
      "outputs": [
        {
          "output_type": "stream",
          "name": "stdout",
          "text": [
            "Hi!\n"
          ]
        }
      ]
    },
    {
      "cell_type": "code",
      "source": [
        "def test():\n",
        "  None\n",
        "\n",
        "test()"
      ],
      "metadata": {
        "id": "1D5YrRr6pL1r"
      },
      "execution_count": null,
      "outputs": []
    },
    {
      "cell_type": "markdown",
      "source": [
        "**Conditions**"
      ],
      "metadata": {
        "id": "wzI9P26xO5OO"
      }
    },
    {
      "cell_type": "code",
      "source": [
        "# In this case, we're approaching a red light, so we set the variable to False\n",
        "green_light = False\n",
        "\n",
        "if green_light:\n",
        "  print(\"Good to go!\")\n",
        "else:\n",
        "  print(\"Don't go yet...\")"
      ],
      "metadata": {
        "colab": {
          "base_uri": "https://localhost:8080/"
        },
        "id": "wAMdFicfOxQf",
        "outputId": "b141ef46-ed23-4019-fbb2-6e547e4b3353"
      },
      "execution_count": null,
      "outputs": [
        {
          "output_type": "stream",
          "name": "stdout",
          "text": [
            "Don't go yet...\n"
          ]
        }
      ]
    },
    {
      "cell_type": "code",
      "source": [
        "def traffic_light(light_color):\n",
        "  print(\"The traffic light is\", light_color + \".\")\n",
        "\n",
        "  # Don't worry about this line; it's just formatting the string so that there's\n",
        "  # no extra whitespace at the ends and it's all in lower case\n",
        "  light = light_color.lower().strip()\n",
        "\n",
        "  # Tell the car what it needs to do based on the colour of the light\n",
        "  if light == \"red\":\n",
        "    print(\"Don't go yet... \")\n",
        "  elif light == \"yellow\":\n",
        "    print(\"Slow down... \")\n",
        "  elif light == \"green\":\n",
        "    print(\"Good to go!\")\n",
        "  else:\n",
        "    print(\"Huh?\")\n",
        "\n",
        "traffic_light(\"red\")"
      ],
      "metadata": {
        "colab": {
          "base_uri": "https://localhost:8080/"
        },
        "id": "NyZa9b6uO_95",
        "outputId": "73258d02-180e-4243-e679-8a6c24c9b926"
      },
      "execution_count": null,
      "outputs": [
        {
          "output_type": "stream",
          "name": "stdout",
          "text": [
            "The traffic light is red.\n",
            "Don't go yet... \n"
          ]
        }
      ]
    },
    {
      "cell_type": "markdown",
      "source": [
        "**Logical operators**"
      ],
      "metadata": {
        "id": "3Zv0vYP0PKXG"
      }
    },
    {
      "cell_type": "code",
      "source": [
        "# Define a variable called test\n",
        "test = 2\n",
        "\n",
        "# Let's see if test is equal to 2, and print out the result\n",
        "result = test == 2\n",
        "print(result)\n",
        "\n",
        "# Define some Booleans\n",
        "bool_a = 2 * 3 == 6 # this evaluates to True\n",
        "bool_b = 9 - 4 != 5 # this evaluates to False\n",
        "\n",
        "# Expression 1\n",
        "print(bool_a and bool_b)\n",
        "\n",
        "# Expression 2\n",
        "print(bool_a or bool_b)\n",
        "\n",
        "# Expression 3\n",
        "print(not bool_b)"
      ],
      "metadata": {
        "colab": {
          "base_uri": "https://localhost:8080/"
        },
        "id": "L6gk36BcPGj_",
        "outputId": "8c17cd29-95d0-4bcf-d4a1-f812a4a860e6"
      },
      "execution_count": null,
      "outputs": [
        {
          "output_type": "stream",
          "name": "stdout",
          "text": [
            "True\n",
            "False\n",
            "True\n",
            "True\n"
          ]
        }
      ]
    },
    {
      "cell_type": "code",
      "source": [
        "# Define the predetermined summon in a variable\n",
        "summon = \"Jarvis, energize!\"\n",
        "\n",
        "# Ask the user for the command\n",
        "command = input(\"What’s your command? \")\n",
        "\n",
        "# Tell the car what to do based on the correctness of the command\n",
        "if command == summon:\n",
        "  print(\"Your wish is my command!\")\n",
        "else:\n",
        "  print(\"Sorry, I don’t understand.\")"
      ],
      "metadata": {
        "colab": {
          "base_uri": "https://localhost:8080/"
        },
        "id": "W1_oeXNOPNbG",
        "outputId": "f7f1de12-fc94-4f49-d62d-2d0c7dbd6916"
      },
      "execution_count": null,
      "outputs": [
        {
          "output_type": "stream",
          "name": "stdout",
          "text": [
            "What’s your command? Jarvis, energize!\n",
            "Your wish is my command!\n"
          ]
        }
      ]
    },
    {
      "cell_type": "markdown",
      "source": [
        "**While loops**"
      ],
      "metadata": {
        "id": "K4FtCuVsSqTh"
      }
    },
    {
      "cell_type": "code",
      "source": [
        "# Define the predetermined summon in a variable\n",
        "summon = \"Jarvis, energize!\"\n",
        "\n",
        "# Ask the user for the command\n",
        "command = input(\"What’s your command? \")\n",
        "\n",
        "# While the command isn't the summon we're looking for... then execute the indented block\n",
        "while command != summon:\n",
        "  print(\"Sorry, I don't understand.\")\n",
        "  command = input(\"What's your command? \")\n",
        "\n",
        "# This line of code will only execute when the loop is finished, i.e., when command is the predetermined summon\n",
        "# Note how this line is NOT indented like the statements inside the while-loop\n",
        "print(\"Your wish is my command!\")"
      ],
      "metadata": {
        "colab": {
          "base_uri": "https://localhost:8080/"
        },
        "id": "rQ2Tu4kkPW0Z",
        "outputId": "52432f92-1ebb-4e6d-f1a9-0ac6f820ab7d"
      },
      "execution_count": null,
      "outputs": [
        {
          "output_type": "stream",
          "name": "stdout",
          "text": [
            "What’s your command? Jarvis, energize!\n",
            "Your wish is my command!\n"
          ]
        }
      ]
    },
    {
      "cell_type": "markdown",
      "source": [
        "**For loops**"
      ],
      "metadata": {
        "id": "bnmOUOXnSsuf"
      }
    },
    {
      "cell_type": "code",
      "source": [
        "for i in range(4):\n",
        "  # Do this 4 times\n",
        "  print(\"This is iteration number: \" + str(i))"
      ],
      "metadata": {
        "colab": {
          "base_uri": "https://localhost:8080/"
        },
        "id": "Ntbk8q9XPaE5",
        "outputId": "02eca999-edb5-4855-c3bc-26c4332389f1"
      },
      "execution_count": null,
      "outputs": [
        {
          "output_type": "stream",
          "name": "stdout",
          "text": [
            "This is iteration number: 0\n",
            "This is iteration number: 1\n",
            "This is iteration number: 2\n",
            "This is iteration number: 3\n"
          ]
        }
      ]
    },
    {
      "cell_type": "code",
      "source": [
        "for i in range(3, 12):\n",
        "  print(i)"
      ],
      "metadata": {
        "colab": {
          "base_uri": "https://localhost:8080/"
        },
        "id": "C8skoA8gcZ3F",
        "outputId": "8939d9a0-4c57-46d8-a04e-c3a315889b5f"
      },
      "execution_count": 33,
      "outputs": [
        {
          "output_type": "stream",
          "name": "stdout",
          "text": [
            "3\n",
            "4\n",
            "5\n",
            "6\n",
            "7\n",
            "8\n",
            "9\n",
            "10\n",
            "11\n"
          ]
        }
      ]
    },
    {
      "cell_type": "code",
      "source": [
        "for i in range(3, 12, 2):\n",
        "  print(i)"
      ],
      "metadata": {
        "colab": {
          "base_uri": "https://localhost:8080/"
        },
        "id": "SLrvfGwhY3Zl",
        "outputId": "71c5f625-89b0-4c56-cc95-8cdc555d9e0f"
      },
      "execution_count": 34,
      "outputs": [
        {
          "output_type": "stream",
          "name": "stdout",
          "text": [
            "3\n",
            "5\n",
            "7\n",
            "9\n",
            "11\n"
          ]
        }
      ]
    },
    {
      "cell_type": "markdown",
      "source": [
        "**Lists**"
      ],
      "metadata": {
        "id": "ZKLE-48aSw6c"
      }
    },
    {
      "cell_type": "code",
      "source": [
        "# Let's create a grocery list for when we go to the store\n",
        "groceries = []\n",
        "groceries.append('apples')\n",
        "groceries.append('milk')\n",
        "groceries.append('bread')\n",
        "groceries.append('cheese')\n",
        "\n",
        "for i in range(0, len(groceries), 2):\n",
        "  print(groceries[i] + ' ' + groceries[i+1] )"
      ],
      "metadata": {
        "colab": {
          "base_uri": "https://localhost:8080/"
        },
        "id": "V7bkIu2GPo3U",
        "outputId": "d753f5f6-71d1-4f43-e256-d1e9c63af4cc"
      },
      "execution_count": 42,
      "outputs": [
        {
          "output_type": "stream",
          "name": "stdout",
          "text": [
            "apples milk\n",
            "bread cheese\n"
          ]
        }
      ]
    },
    {
      "cell_type": "code",
      "source": [
        "a = [5, 4, 'x', 'y']\n",
        "print ( ( max(str(a)) ) )\n",
        "# print( max(a) )  Error -- TypeError: '>' not supported between instances of 'str' and 'int'"
      ],
      "metadata": {
        "colab": {
          "base_uri": "https://localhost:8080/",
          "height": 213
        },
        "id": "nFYWh-MTaHyd",
        "outputId": "fe25e051-1da2-4686-d6c7-e5f41d478b72"
      },
      "execution_count": 45,
      "outputs": [
        {
          "output_type": "error",
          "ename": "TypeError",
          "evalue": "'>' not supported between instances of 'str' and 'int'",
          "traceback": [
            "\u001b[0;31m---------------------------------------------------------------------------\u001b[0m",
            "\u001b[0;31mTypeError\u001b[0m                                 Traceback (most recent call last)",
            "\u001b[0;32m<ipython-input-45-f8477cc7334c>\u001b[0m in \u001b[0;36m<cell line: 2>\u001b[0;34m()\u001b[0m\n\u001b[1;32m      1\u001b[0m \u001b[0ma\u001b[0m \u001b[0;34m=\u001b[0m \u001b[0;34m[\u001b[0m\u001b[0;36m5\u001b[0m\u001b[0;34m,\u001b[0m \u001b[0;36m4\u001b[0m\u001b[0;34m,\u001b[0m \u001b[0;34m'x'\u001b[0m\u001b[0;34m,\u001b[0m \u001b[0;34m'y'\u001b[0m\u001b[0;34m]\u001b[0m\u001b[0;34m\u001b[0m\u001b[0;34m\u001b[0m\u001b[0m\n\u001b[0;32m----> 2\u001b[0;31m \u001b[0mprint\u001b[0m \u001b[0;34m(\u001b[0m \u001b[0;34m(\u001b[0m \u001b[0mmax\u001b[0m\u001b[0;34m(\u001b[0m\u001b[0ma\u001b[0m\u001b[0;34m)\u001b[0m \u001b[0;34m)\u001b[0m \u001b[0;34m)\u001b[0m\u001b[0;34m\u001b[0m\u001b[0;34m\u001b[0m\u001b[0m\n\u001b[0m\u001b[1;32m      3\u001b[0m \u001b[0;31m# print( max(a) ) -- Error -- TypeError: '>' not supported between instances of 'str' and 'int'\u001b[0m\u001b[0;34m\u001b[0m\u001b[0;34m\u001b[0m\u001b[0m\n",
            "\u001b[0;31mTypeError\u001b[0m: '>' not supported between instances of 'str' and 'int'"
          ]
        }
      ]
    },
    {
      "cell_type": "code",
      "source": [
        "example_list = [1, 2, 3, 4, 5, 8, 2, 6]\n",
        "\n",
        "print(max(example_list)) # prints out the largest number in the list\n",
        "\n",
        "print(min(example_list)) # prints out the smallest number in the list\n",
        "\n",
        "print(len(example_list)) # prints out the length of the list"
      ],
      "metadata": {
        "colab": {
          "base_uri": "https://localhost:8080/"
        },
        "id": "npLQfSGBPjeA",
        "outputId": "2169f2b8-d6ba-4c7a-98db-e07bfd101c78"
      },
      "execution_count": 36,
      "outputs": [
        {
          "output_type": "stream",
          "name": "stdout",
          "text": [
            "8\n",
            "1\n",
            "8\n"
          ]
        }
      ]
    },
    {
      "cell_type": "code",
      "source": [
        "nr_list = [1, 2, 3, 4, 5]\n",
        "\n",
        "del nr_list[0]\n",
        "print(nr_list)\n",
        "\n",
        "print(nr_list[-1])\n",
        "print(nr_list[-2])\n",
        "\n",
        "print(nr_list[2:4])\n",
        "print(nr_list[:4])\n",
        "print(nr_list[-2:-1])"
      ],
      "metadata": {
        "colab": {
          "base_uri": "https://localhost:8080/"
        },
        "id": "brVChihJrmJi",
        "outputId": "8bbcdd78-4821-4363-b9b2-29fdb519ae2f"
      },
      "execution_count": 43,
      "outputs": [
        {
          "output_type": "stream",
          "name": "stdout",
          "text": [
            "[2, 3, 4, 5]\n",
            "5\n",
            "4\n",
            "[4, 5]\n",
            "[2, 3, 4, 5]\n",
            "[4]\n"
          ]
        }
      ]
    },
    {
      "cell_type": "code",
      "source": [
        "from typing import List\n",
        "ch_list_1 = [\"a\", \"b\", \"c\"]\n",
        "ch_list_2 = [\"d\", \"e\", \"f\"]\n",
        "ch_list_1.extend(ch_list_2)\n",
        "print(ch_list_1)\n",
        "print()\n",
        "\n",
        "ch_list = [1, 2, 3, 3, 4, 5]\n",
        "print(ch_list.remove(3))\n",
        "print(ch_list)\n",
        "print()\n",
        "\n",
        "print(ch_list.pop(3))\n",
        "print(ch_list)\n",
        "print()\n",
        "\n",
        "len(ch_list)\n",
        "\n",
        "ch_list.sort()\n",
        "print(ch_list)\n",
        "\n",
        "ch_list.sort(reverse=True)\n",
        "print(ch_list)"
      ],
      "metadata": {
        "colab": {
          "base_uri": "https://localhost:8080/"
        },
        "id": "IKWx2XbOsZIC",
        "outputId": "fa1d31c4-1447-4a8e-f229-2afd95656890"
      },
      "execution_count": 53,
      "outputs": [
        {
          "output_type": "stream",
          "name": "stdout",
          "text": [
            "['a', 'b', 'c', 'd', 'e', 'f']\n",
            "\n",
            "None\n",
            "[1, 2, 3, 4, 5]\n",
            "\n",
            "4\n",
            "[1, 2, 3, 5]\n",
            "\n",
            "[1, 2, 3, 5]\n",
            "[5, 3, 2, 1]\n"
          ]
        }
      ]
    },
    {
      "cell_type": "code",
      "source": [
        "nr_list = [1, 2, 3]\n",
        "string_list = [\"un\", \"doi\", \"trei\"]\n",
        "mixt_list = [1, \"doi\", True]\n",
        "\n",
        "print(nr_list)\n",
        "print(string_list)\n",
        "print(mixt_list)"
      ],
      "metadata": {
        "colab": {
          "base_uri": "https://localhost:8080/"
        },
        "id": "7hb_6FuYsk-v",
        "outputId": "42c3b449-4e2f-451b-92c3-5f391fbe9674"
      },
      "execution_count": null,
      "outputs": [
        {
          "output_type": "stream",
          "name": "stdout",
          "text": [
            "[1, 2, 3]\n",
            "['un', 'doi', 'trei']\n",
            "[1, 'doi', True]\n"
          ]
        }
      ]
    },
    {
      "cell_type": "markdown",
      "source": [
        "**NumPy: An Introduction** - The main difference is that NumPy arrays are much faster and have strict requirements on the homogeneity of the objects. For example, a NumPy array of strings can only contain strings and no other data types, but a Python list can contain a mixture of strings, numbers, booleans and other objects."
      ],
      "metadata": {
        "id": "7-ZNwFXFTv5n"
      }
    },
    {
      "cell_type": "code",
      "source": [
        "import numpy as np\n",
        "\n",
        "# Array\n",
        "a = np.array([12.50, 10.20, 25])\n",
        "\n",
        "a"
      ],
      "metadata": {
        "colab": {
          "base_uri": "https://localhost:8080/"
        },
        "id": "tj2lgfkHPogL",
        "outputId": "eca6ccf7-dd3a-43ec-b783-2ca7f8eed4bc"
      },
      "execution_count": null,
      "outputs": [
        {
          "output_type": "execute_result",
          "data": {
            "text/plain": [
              "array([12.5, 10.2, 25. ])"
            ]
          },
          "metadata": {},
          "execution_count": 21
        }
      ]
    },
    {
      "cell_type": "code",
      "source": [
        "# Multi-dimensional array\n",
        "b = np.array([\n",
        "    [19.50, 13, 12, 11 ],\n",
        "    [12.50, 10, 25, 14]])\n",
        "\n",
        "b"
      ],
      "metadata": {
        "colab": {
          "base_uri": "https://localhost:8080/"
        },
        "id": "bR_7kXCtT6bS",
        "outputId": "b345b071-abd2-4af8-9a21-d078b7827a59"
      },
      "execution_count": null,
      "outputs": [
        {
          "output_type": "execute_result",
          "data": {
            "text/plain": [
              "array([[19.5, 13. , 12. , 11. ],\n",
              "       [12.5, 10. , 25. , 14. ]])"
            ]
          },
          "metadata": {},
          "execution_count": 22
        }
      ]
    },
    {
      "cell_type": "code",
      "source": [
        "c = np.array([10, 11, 12, 13, 14])\n",
        "d = np.array([1, 2, 3, 4, 5])"
      ],
      "metadata": {
        "id": "WLiIp05uUFGY"
      },
      "execution_count": null,
      "outputs": []
    },
    {
      "cell_type": "code",
      "source": [
        "c + d\n",
        "c - d"
      ],
      "metadata": {
        "colab": {
          "base_uri": "https://localhost:8080/"
        },
        "id": "axamLd9UUQ7M",
        "outputId": "224a575b-828b-413e-c254-37725c072ffa"
      },
      "execution_count": null,
      "outputs": [
        {
          "output_type": "execute_result",
          "data": {
            "text/plain": [
              "array([9, 9, 9, 9, 9])"
            ]
          },
          "metadata": {},
          "execution_count": 24
        }
      ]
    },
    {
      "cell_type": "code",
      "source": [
        "b.shape"
      ],
      "metadata": {
        "colab": {
          "base_uri": "https://localhost:8080/"
        },
        "id": "rVzjLjhOURe8",
        "outputId": "b07a3505-5468-470c-b0d1-5027e21d1491"
      },
      "execution_count": null,
      "outputs": [
        {
          "output_type": "execute_result",
          "data": {
            "text/plain": [
              "(2, 4)"
            ]
          },
          "metadata": {},
          "execution_count": 25
        }
      ]
    },
    {
      "cell_type": "code",
      "source": [
        "# The .linspace method is used to return evenly spaced numbers over a specified interval.\n",
        "# Let's create an array of 6 integers between 0 and 100 to demonstrate this method:\n",
        "np.linspace(0, 100, 6)"
      ],
      "metadata": {
        "colab": {
          "base_uri": "https://localhost:8080/"
        },
        "id": "rdXAL9-FUVKM",
        "outputId": "db7acd0e-126e-47cd-889f-d1441ff1010b"
      },
      "execution_count": null,
      "outputs": [
        {
          "output_type": "execute_result",
          "data": {
            "text/plain": [
              "array([  0.,  20.,  40.,  60.,  80., 100.])"
            ]
          },
          "metadata": {},
          "execution_count": 26
        }
      ]
    },
    {
      "cell_type": "code",
      "source": [
        "np.arange(0, 10, 3)"
      ],
      "metadata": {
        "colab": {
          "base_uri": "https://localhost:8080/"
        },
        "id": "GZOF0yQSUWsc",
        "outputId": "8d58f140-9fb4-4e25-a58d-fbbd2abac321"
      },
      "execution_count": null,
      "outputs": [
        {
          "output_type": "execute_result",
          "data": {
            "text/plain": [
              "array([0, 3, 6, 9])"
            ]
          },
          "metadata": {},
          "execution_count": 27
        }
      ]
    },
    {
      "cell_type": "code",
      "source": [
        "e = np.random.rand(4, 5)\n",
        "e * 100 + 1"
      ],
      "metadata": {
        "colab": {
          "base_uri": "https://localhost:8080/"
        },
        "id": "bP0FRkYoUf4b",
        "outputId": "7801c23b-5f00-4ed8-d205-68ce383d1ad0"
      },
      "execution_count": null,
      "outputs": [
        {
          "output_type": "execute_result",
          "data": {
            "text/plain": [
              "array([[10.2432969 , 87.8801905 , 34.75160133,  5.95311775, 90.01303296],\n",
              "       [35.35355809, 91.96019962, 49.59114501, 36.4016096 , 38.40885761],\n",
              "       [53.36894081, 10.22736611, 38.53530129, 19.78587929, 54.55040631],\n",
              "       [65.42380272, 77.95251129, 66.57124241, 33.67300209, 97.73151925]])"
            ]
          },
          "metadata": {},
          "execution_count": 28
        }
      ]
    },
    {
      "cell_type": "code",
      "source": [
        "np.random.rand(4,5) * 100"
      ],
      "metadata": {
        "colab": {
          "base_uri": "https://localhost:8080/"
        },
        "id": "YX0G2j_EUlRr",
        "outputId": "07adcbb2-4573-4d6d-fd14-550cde52f02d"
      },
      "execution_count": null,
      "outputs": [
        {
          "output_type": "execute_result",
          "data": {
            "text/plain": [
              "array([[57.62529489, 46.53739218, 72.83754848,  3.5562731 , 87.83267248],\n",
              "       [27.90739301, 22.26339657, 30.76513306, 19.43768264, 64.58304451],\n",
              "       [53.98571509, 59.99023053, 81.55317453, 83.33817815, 79.62142551],\n",
              "       [18.74466882, 85.73289639, 12.56777779, 65.1924044 , 65.2025505 ]])"
            ]
          },
          "metadata": {},
          "execution_count": 29
        }
      ]
    },
    {
      "cell_type": "code",
      "source": [
        "f = np.arange(0, 10, 3)"
      ],
      "metadata": {
        "id": "4-tnSx5zUnVJ"
      },
      "execution_count": null,
      "outputs": []
    },
    {
      "cell_type": "code",
      "source": [
        "print(f.dtype)\n",
        "print(f.shape)"
      ],
      "metadata": {
        "colab": {
          "base_uri": "https://localhost:8080/"
        },
        "id": "qIuxRlWrUrwp",
        "outputId": "a7ea3e12-f572-40c1-8793-e279a4689718"
      },
      "execution_count": null,
      "outputs": [
        {
          "output_type": "stream",
          "name": "stdout",
          "text": [
            "int64\n",
            "(4,)\n"
          ]
        }
      ]
    },
    {
      "cell_type": "code",
      "source": [
        "x = np.array([3, 4, 5])\n",
        "y = np.array([1, 2, 3])"
      ],
      "metadata": {
        "id": "Bs81i8DTU0RY"
      },
      "execution_count": null,
      "outputs": []
    },
    {
      "cell_type": "code",
      "source": [
        "print(x + y)\n",
        "print(x - y)\n",
        "print(x * y)\n",
        "print(x / y)\n",
        "print(x ** 2)"
      ],
      "metadata": {
        "colab": {
          "base_uri": "https://localhost:8080/"
        },
        "id": "KEYd7KQhVIe8",
        "outputId": "4f7bf468-da93-450a-f514-31213e7c95de"
      },
      "execution_count": null,
      "outputs": [
        {
          "output_type": "stream",
          "name": "stdout",
          "text": [
            "[4 6 8]\n",
            "[2 2 2]\n",
            "[ 3  8 15]\n",
            "[3.         2.         1.66666667]\n",
            "[ 9 16 25]\n"
          ]
        }
      ]
    },
    {
      "cell_type": "code",
      "source": [
        "np.add(x, 1)\n",
        "np.subtract(x, 2)\n",
        "np.multiply(x, 3)\n",
        "np.divide(x, 4)\n",
        "np.power(x, 5)"
      ],
      "metadata": {
        "colab": {
          "base_uri": "https://localhost:8080/"
        },
        "id": "_AFDYdz6VKWv",
        "outputId": "a92847d0-f823-4030-d629-c1ceb7e783dc"
      },
      "execution_count": null,
      "outputs": [
        {
          "output_type": "execute_result",
          "data": {
            "text/plain": [
              "array([ 243, 1024, 3125])"
            ]
          },
          "metadata": {},
          "execution_count": 37
        }
      ]
    },
    {
      "cell_type": "code",
      "source": [
        "s = np.arange(12) * 5 # note this is same as np.arange(0, 12, 1) * 5"
      ],
      "metadata": {
        "id": "jRpQerYpVSqQ"
      },
      "execution_count": null,
      "outputs": []
    },
    {
      "cell_type": "code",
      "source": [
        "s[2]"
      ],
      "metadata": {
        "colab": {
          "base_uri": "https://localhost:8080/"
        },
        "id": "bLaj7BF8VZBL",
        "outputId": "4fc61e8c-dcc1-442f-c6d8-2dabca556fee"
      },
      "execution_count": null,
      "outputs": [
        {
          "output_type": "execute_result",
          "data": {
            "text/plain": [
              "10"
            ]
          },
          "metadata": {},
          "execution_count": 39
        }
      ]
    },
    {
      "cell_type": "code",
      "source": [
        "s[2:5]"
      ],
      "metadata": {
        "colab": {
          "base_uri": "https://localhost:8080/"
        },
        "id": "F-aRtKi2VWdS",
        "outputId": "dd42b9a1-70dc-47d0-9cb7-96b522f9dc05"
      },
      "execution_count": null,
      "outputs": [
        {
          "output_type": "execute_result",
          "data": {
            "text/plain": [
              "array([10, 15, 20])"
            ]
          },
          "metadata": {},
          "execution_count": 40
        }
      ]
    },
    {
      "cell_type": "code",
      "source": [
        "np.concatenate((s,a))"
      ],
      "metadata": {
        "colab": {
          "base_uri": "https://localhost:8080/"
        },
        "id": "g7TQy544VYau",
        "outputId": "5db607a9-3ece-45f0-9abf-f864e7dae394"
      },
      "execution_count": null,
      "outputs": [
        {
          "output_type": "execute_result",
          "data": {
            "text/plain": [
              "array([ 0. ,  5. , 10. , 15. , 20. , 25. , 30. , 35. , 40. , 45. , 50. ,\n",
              "       55. , 12.5, 10.2, 25. ])"
            ]
          },
          "metadata": {},
          "execution_count": 41
        }
      ]
    },
    {
      "cell_type": "code",
      "source": [
        "z = np.arange(9.0)\n",
        "z"
      ],
      "metadata": {
        "colab": {
          "base_uri": "https://localhost:8080/"
        },
        "id": "7rF8mt5MVeFq",
        "outputId": "8cb010fe-9279-4e0a-9adb-7b42ffd6390d"
      },
      "execution_count": null,
      "outputs": [
        {
          "output_type": "execute_result",
          "data": {
            "text/plain": [
              "array([0., 1., 2., 3., 4., 5., 6., 7., 8.])"
            ]
          },
          "metadata": {},
          "execution_count": 42
        }
      ]
    },
    {
      "cell_type": "code",
      "source": [
        "split_arr = np.split(z, 3)\n",
        "split_arr"
      ],
      "metadata": {
        "colab": {
          "base_uri": "https://localhost:8080/"
        },
        "id": "js4oDtZjVgOX",
        "outputId": "a7482a25-67c5-4115-8ed6-ce555494829a"
      },
      "execution_count": null,
      "outputs": [
        {
          "output_type": "execute_result",
          "data": {
            "text/plain": [
              "[array([0., 1., 2.]), array([3., 4., 5.]), array([6., 7., 8.])]"
            ]
          },
          "metadata": {},
          "execution_count": 43
        }
      ]
    },
    {
      "cell_type": "code",
      "source": [
        "np.array(split_arr).shape"
      ],
      "metadata": {
        "colab": {
          "base_uri": "https://localhost:8080/"
        },
        "id": "TS0MU8FPVjKG",
        "outputId": "5b27db9f-9402-4bf5-bbce-7c050735f397"
      },
      "execution_count": null,
      "outputs": [
        {
          "output_type": "execute_result",
          "data": {
            "text/plain": [
              "(3, 3)"
            ]
          },
          "metadata": {},
          "execution_count": 44
        }
      ]
    },
    {
      "cell_type": "code",
      "source": [
        "milk = np.arange(15, 200, 15)[:5]\n",
        "milk"
      ],
      "metadata": {
        "id": "vkJVmLBPVlH-",
        "colab": {
          "base_uri": "https://localhost:8080/"
        },
        "outputId": "cc2f5bd7-2684-4cef-f707-02b442542278"
      },
      "execution_count": null,
      "outputs": [
        {
          "output_type": "execute_result",
          "data": {
            "text/plain": [
              "array([15, 30, 45, 60, 75])"
            ]
          },
          "metadata": {},
          "execution_count": 47
        }
      ]
    },
    {
      "cell_type": "markdown",
      "source": [
        "**Plots**"
      ],
      "metadata": {
        "id": "hJ5ZwIbUVu0I"
      }
    },
    {
      "cell_type": "code",
      "source": [
        "import matplotlib.pyplot as plt\n",
        "\n",
        "plt.plot([1, 2, 3, 4], [1, 4, 9, 16]) # plt.plot([x-coordinates], [y-coordinates])\n",
        "plt.show()"
      ],
      "metadata": {
        "colab": {
          "base_uri": "https://localhost:8080/",
          "height": 430
        },
        "id": "ufjg2JAkV7BQ",
        "outputId": "937a851e-0c50-4e7e-8542-c61738ab5320"
      },
      "execution_count": null,
      "outputs": [
        {
          "output_type": "display_data",
          "data": {
            "text/plain": [
              "<Figure size 640x480 with 1 Axes>"
            ],
            "image/png": "[encoded data removed]"
          },
          "metadata": {}
        }
      ]
    },
    {
      "cell_type": "code",
      "source": [
        "plt.plot([1, 2, 3, 4], [1, 4, 9, 16])\n",
        "plt.title(\"First Plot\")\n",
        "plt.xlabel(\"X Label\")\n",
        "plt.ylabel(\"Y Label\")\n",
        "plt.show()"
      ],
      "metadata": {
        "colab": {
          "base_uri": "https://localhost:8080/",
          "height": 472
        },
        "id": "3wfwEgqpWJPO",
        "outputId": "4683de7a-7d1e-4f85-c71d-fe627c6d7286"
      },
      "execution_count": null,
      "outputs": [
        {
          "output_type": "display_data",
          "data": {
            "text/plain": [
              "<Figure size 640x480 with 1 Axes>"
            ],
            "image/png": "[encoded data removed]"
          },
          "metadata": {}
        }
      ]
    },
    {
      "cell_type": "code",
      "source": [
        "height = np.array([167, 170, 149, 165, 155, 180, 166, 146, 159, 185, 145, 168, 172, 181, 169])\n",
        "weight = np.array([86, 74, 66, 78, 68, 79, 90, 73, 70, 88, 66, 84, 67, 84, 77])\n",
        "\n",
        "#We can set the limit (lower, upper) for the x-axis and the y-axis using xlim and ylim, respectively.\n",
        "plt.xlim(140, 200)\n",
        "plt.ylim(60, 100)\n",
        "#A scatterplot can be generated through .scatter(x,y)\n",
        "plt.scatter(height, weight)\n",
        "plt.title(\"Comparing Height vs. Weight\")\n",
        "plt.xlabel(\"Height\")\n",
        "plt.ylabel(\"Weight\")\n",
        "plt.show()"
      ],
      "metadata": {
        "colab": {
          "base_uri": "https://localhost:8080/",
          "height": 472
        },
        "id": "lUpwcTbFWJxD",
        "outputId": "cfab507c-d5f5-43bc-b431-cc60b3a2a760"
      },
      "execution_count": null,
      "outputs": [
        {
          "output_type": "display_data",
          "data": {
            "text/plain": [
              "<Figure size 640x480 with 1 Axes>"
            ],
            "image/png": "[encoded data removed]"
          },
          "metadata": {}
        }
      ]
    },
    {
      "cell_type": "markdown",
      "source": [
        "**'Type' Function**"
      ],
      "metadata": {
        "id": "TjEhiuJyXlMC"
      }
    },
    {
      "cell_type": "code",
      "source": [
        "x = 5\n",
        "print(type(x))"
      ],
      "metadata": {
        "colab": {
          "base_uri": "https://localhost:8080/"
        },
        "id": "RqF9h3_UWQL8",
        "outputId": "e3a2a936-121c-44a7-84d4-4c8520690b30"
      },
      "execution_count": null,
      "outputs": [
        {
          "output_type": "stream",
          "name": "stdout",
          "text": [
            "<class 'int'>\n"
          ]
        }
      ]
    },
    {
      "cell_type": "markdown",
      "source": [
        "**Tuples**"
      ],
      "metadata": {
        "id": "Q6n8RPPTshYg"
      }
    },
    {
      "cell_type": "code",
      "source": [
        "tuple = (1, 2, 3)\n",
        "\n",
        "# Unpacking de tuple\n",
        "x, y, z = tuple\n",
        "\n",
        "print(x)\n",
        "print(y)\n",
        "print(z)\n",
        "print()\n",
        "\n",
        "first_elem, *rest = tuple\n",
        "\n",
        "print(first_elem)\n",
        "print(type(first_elem))\n",
        "print(rest)\n",
        "print(type(rest))"
      ],
      "metadata": {
        "colab": {
          "base_uri": "https://localhost:8080/"
        },
        "id": "fQBPrJ7PZANa",
        "outputId": "21873f0f-3b43-4990-9d89-18fd91a5b936"
      },
      "execution_count": null,
      "outputs": [
        {
          "output_type": "stream",
          "name": "stdout",
          "text": [
            "1\n",
            "2\n",
            "3\n",
            "\n",
            "1\n",
            "<class 'int'>\n",
            "[2, 3]\n",
            "<class 'list'>\n"
          ]
        }
      ]
    },
    {
      "cell_type": "markdown",
      "source": [
        "**Sets** - Sets are another standard Python data type that also store values. The major difference is that sets, unlike lists or tuples, cannot have multiple occurrences of the same element and store unordered values"
      ],
      "metadata": {
        "id": "GKPoGtw_sskJ"
      }
    },
    {
      "cell_type": "code",
      "source": [
        "set_eg = {1, 2, 3, 4}\n",
        "\n",
        "set_eg.remove(2)\n",
        "\n",
        "print(set_eg)\n",
        "\n",
        "set_eg.add(1)\n",
        "\n",
        "print(set_eg)\n",
        "print(list(set_eg))"
      ],
      "metadata": {
        "colab": {
          "base_uri": "https://localhost:8080/"
        },
        "id": "BtK2nA21ZQWP",
        "outputId": "297c6738-6fc8-4e4d-aa16-7a0b78c489d0"
      },
      "execution_count": 56,
      "outputs": [
        {
          "output_type": "stream",
          "name": "stdout",
          "text": [
            "{1, 3, 4}\n",
            "{1, 3, 4}\n",
            "[1, 3, 4]\n"
          ]
        }
      ]
    },
    {
      "cell_type": "code",
      "source": [
        "\n",
        "set1 = {1, 2, 3}\n",
        "\n",
        "set2 = {3, 4, 5, 6}\n",
        "\n",
        "set1.update(set2)\n",
        "\n",
        "print(set1)"
      ],
      "metadata": {
        "colab": {
          "base_uri": "https://localhost:8080/"
        },
        "id": "AccLsirqZTGV",
        "outputId": "5e7dd9dd-c06a-45cc-8b98-bcda42b97922"
      },
      "execution_count": null,
      "outputs": [
        {
          "output_type": "stream",
          "name": "stdout",
          "text": [
            "{1, 2, 3, 4, 5, 6}\n"
          ]
        }
      ]
    },
    {
      "cell_type": "code",
      "source": [
        "set = {1, 2, 3, 4}\n",
        "\n",
        "set.discard(4)\n",
        "\n",
        "print(set)"
      ],
      "metadata": {
        "colab": {
          "base_uri": "https://localhost:8080/"
        },
        "id": "UKXIwsyTZVb2",
        "outputId": "4cb43f39-e643-430e-8075-809eefe9339c"
      },
      "execution_count": null,
      "outputs": [
        {
          "output_type": "stream",
          "name": "stdout",
          "text": [
            "{1, 2, 3}\n"
          ]
        }
      ]
    },
    {
      "cell_type": "code",
      "source": [
        "set = {1, 2, 3}\n",
        "\n",
        "set.remove(3)\n",
        "\n",
        "print(set)"
      ],
      "metadata": {
        "colab": {
          "base_uri": "https://localhost:8080/"
        },
        "id": "78o5OCFXZYVS",
        "outputId": "67d59f92-4b5f-4f6e-8459-e6d39feba199"
      },
      "execution_count": null,
      "outputs": [
        {
          "output_type": "stream",
          "name": "stdout",
          "text": [
            "{1, 2}\n"
          ]
        }
      ]
    },
    {
      "cell_type": "markdown",
      "source": [
        "Dictionaries"
      ],
      "metadata": {
        "id": "Ow3EW-hBlUvc"
      }
    },
    {
      "cell_type": "code",
      "source": [
        "dict = { \"book\" : \"Harry\",\n",
        "        \"car\" : \"BMW\",\n",
        "         \"year\" : 1964,\n",
        "         5 : 6.5\n",
        "         }\n",
        "dict[\"fruit\"] = \"apple\"\n",
        "for item in dict:\n",
        "  # c++ -- printf(\"hello %d world\", item);\n",
        "  print( f\"valoarea pentru {item} este {dict[item]}\" )"
      ],
      "metadata": {
        "colab": {
          "base_uri": "https://localhost:8080/"
        },
        "id": "wd462bcdlbCi",
        "outputId": "2b1f6e7a-076d-483c-d71c-3b61e6e4bf4c"
      },
      "execution_count": 63,
      "outputs": [
        {
          "output_type": "stream",
          "name": "stdout",
          "text": [
            "valoarea pentru book este Harry\n",
            "valoarea pentru car este BMW\n",
            "valoarea pentru year este 1964\n",
            "valoarea pentru 5 este 6.5\n",
            "valoarea pentru fruit este apple\n"
          ]
        }
      ]
    },
    {
      "cell_type": "markdown",
      "source": [
        "Read file from Google Drive"
      ],
      "metadata": {
        "id": "zUtrHcMhBFOG"
      }
    },
    {
      "cell_type": "code",
      "source": [
        "from google.colab import drive\n",
        "drive.mount('/content/drive')\n",
        "from google.colab import files\n",
        "uploaded = files.upload()\n",
        "import pandas as pd\n",
        "data = pd.read_csv('/Contact_info_demo.csv')"
      ],
      "metadata": {
        "id": "IulUnAzX_66b"
      },
      "execution_count": null,
      "outputs": []
    },
    {
      "cell_type": "markdown",
      "source": [
        "Read from local files"
      ],
      "metadata": {
        "id": "CX-6-1ypBueP"
      }
    },
    {
      "cell_type": "code",
      "source": [
        "data = '/Contact_info_demo.csv'"
      ],
      "metadata": {
        "id": "GSLq1bmiA6Hy"
      },
      "execution_count": 76,
      "outputs": []
    },
    {
      "cell_type": "code",
      "source": [
        "data"
      ],
      "metadata": {
        "colab": {
          "base_uri": "https://localhost:8080/",
          "height": 35
        },
        "id": "_qGjnMudCca6",
        "outputId": "fadbe52c-21ac-4cdc-85bc-afc1e8254138"
      },
      "execution_count": 77,
      "outputs": [
        {
          "output_type": "execute_result",
          "data": {
            "text/plain": [
              "'/Contact_info_demo.csv'"
            ],
            "application/vnd.google.colaboratory.intrinsic+json": {
              "type": "string"
            }
          },
          "metadata": {},
          "execution_count": 77
        }
      ]
    },
    {
      "cell_type": "code",
      "source": [
        "import pandas as pd\n",
        "data_set = pd.read_csv('/Contact_info_demo.csv')"
      ],
      "metadata": {
        "id": "VV3eKqtBCe9j"
      },
      "execution_count": 78,
      "outputs": []
    },
    {
      "cell_type": "code",
      "source": [
        "data_set"
      ],
      "metadata": {
        "colab": {
          "base_uri": "https://localhost:8080/",
          "height": 614
        },
        "id": "AdrESSVrChCT",
        "outputId": "6324de2a-f659-4ac1-a457-0ba66ec898f9"
      },
      "execution_count": 70,
      "outputs": [
        {
          "output_type": "execute_result",
          "data": {
            "text/plain": [
              "                       Timestamp             Nume si prenume  \\\n",
              "0   2023/12/19 10:28:50 AM GMT+2             Miu Ana Corina    \n",
              "1   2023/12/19 10:30:28 AM GMT+2                Trică Andrei   \n",
              "2   2023/12/19 12:13:24 PM GMT+2              Zambitchi Radu   \n",
              "3   2023/12/19 12:22:40 PM GMT+2             Gheorghe Bogdan   \n",
              "4   2023/12/19 12:25:45 PM GMT+2               Cristea David   \n",
              "..                           ...                         ...   \n",
              "60   2024/01/14 8:47:18 PM GMT+2  Trambitas Alexandru - Luca   \n",
              "61  2024/01/16 12:44:00 PM GMT+2             Azoiței Ingrid    \n",
              "62   2024/01/17 3:37:11 PM GMT+2             CATANET VANESSA   \n",
              "63  2024/01/19 11:51:44 AM GMT+2                Vlad Tiberiu   \n",
              "64   2024/01/20 2:12:34 PM GMT+2        Ghinea Mihnea Dragos   \n",
              "\n",
              "                           Email Numar de telefon  \\\n",
              "0          cattara2008@gmail.com       0737864046   \n",
              "1       andrei.trica18@gmail.com       0749764729   \n",
              "2        radu.zambitki@gmail.com       0758588118   \n",
              "3          bogdanghe07@gmail.com       0741492912   \n",
              "4           emailhoria@yahoo.com       0741515782   \n",
              "..                           ...              ...   \n",
              "60          alexlucatr@gmail.com       0738225650   \n",
              "61       ingridazoitei@gmail.com       0732369800   \n",
              "62     vanessa.catanet@gmail.com       0771735015   \n",
              "63           tibi.vlad@gmail.com       0771406726   \n",
              "64  mihneadragosghinea@gmail.com       0753568769   \n",
              "\n",
              "                          Clasa (si litera) si liceul  \n",
              "0                               Clasa a IX-a B, CNITV  \n",
              "1                                           CNITV, 9B  \n",
              "2                                  CNI Tudor Vianu 9B  \n",
              "3                                          10 F CNITV  \n",
              "4                                 Clasa a IX C- Vianu  \n",
              "..                                                ...  \n",
              "60  10F Colegiul National de Informatica \"Tudor Vi...  \n",
              "61                         A 9-a C, CNI \"Tudor Vianu\"  \n",
              "62                                         9 C, CNITV  \n",
              "63                        C.N.I. Tudor Vianu, a XIa D  \n",
              "64                           Cls a 9 a H, Tudor Vianu  \n",
              "\n",
              "[65 rows x 5 columns]"
            ],
            "text/html": [
              "\n",
              "  <div id=\"df-e666d66c-8b55-4c6e-b56c-78a109c54c79\" class=\"colab-df-container\">\n",
              "    <div>\n",
              "<style scoped>\n",
              "    .dataframe tbody tr th:only-of-type {\n",
              "        vertical-align: middle;\n",
              "    }\n",
              "\n",
              "    .dataframe tbody tr th {\n",
              "        vertical-align: top;\n",
              "    }\n",
              "\n",
              "    .dataframe thead th {\n",
              "        text-align: right;\n",
              "    }\n",
              "</style>\n",
              "<table border=\"1\" class=\"dataframe\">\n",
              "  <thead>\n",
              "    <tr style=\"text-align: right;\">\n",
              "      <th></th>\n",
              "      <th>Timestamp</th>\n",
              "      <th>Nume si prenume</th>\n",
              "      <th>Email</th>\n",
              "      <th>Numar de telefon</th>\n",
              "      <th>Clasa (si litera) si liceul</th>\n",
              "    </tr>\n",
              "  </thead>\n",
              "  <tbody>\n",
              "    <tr>\n",
              "      <th>0</th>\n",
              "      <td>2023/12/19 10:28:50 AM GMT+2</td>\n",
              "      <td>Miu Ana Corina</td>\n",
              "      <td>cattara2008@gmail.com</td>\n",
              "      <td>0737864046</td>\n",
              "      <td>Clasa a IX-a B, CNITV</td>\n",
              "    </tr>\n",
              "    <tr>\n",
              "      <th>1</th>\n",
              "      <td>2023/12/19 10:30:28 AM GMT+2</td>\n",
              "      <td>Trică Andrei</td>\n",
              "      <td>andrei.trica18@gmail.com</td>\n",
              "      <td>0749764729</td>\n",
              "      <td>CNITV, 9B</td>\n",
              "    </tr>\n",
              "    <tr>\n",
              "      <th>2</th>\n",
              "      <td>2023/12/19 12:13:24 PM GMT+2</td>\n",
              "      <td>Zambitchi Radu</td>\n",
              "      <td>radu.zambitki@gmail.com</td>\n",
              "      <td>0758588118</td>\n",
              "      <td>CNI Tudor Vianu 9B</td>\n",
              "    </tr>\n",
              "    <tr>\n",
              "      <th>3</th>\n",
              "      <td>2023/12/19 12:22:40 PM GMT+2</td>\n",
              "      <td>Gheorghe Bogdan</td>\n",
              "      <td>bogdanghe07@gmail.com</td>\n",
              "      <td>0741492912</td>\n",
              "      <td>10 F CNITV</td>\n",
              "    </tr>\n",
              "    <tr>\n",
              "      <th>4</th>\n",
              "      <td>2023/12/19 12:25:45 PM GMT+2</td>\n",
              "      <td>Cristea David</td>\n",
              "      <td>emailhoria@yahoo.com</td>\n",
              "      <td>0741515782</td>\n",
              "      <td>Clasa a IX C- Vianu</td>\n",
              "    </tr>\n",
              "    <tr>\n",
              "      <th>...</th>\n",
              "      <td>...</td>\n",
              "      <td>...</td>\n",
              "      <td>...</td>\n",
              "      <td>...</td>\n",
              "      <td>...</td>\n",
              "    </tr>\n",
              "    <tr>\n",
              "      <th>60</th>\n",
              "      <td>2024/01/14 8:47:18 PM GMT+2</td>\n",
              "      <td>Trambitas Alexandru - Luca</td>\n",
              "      <td>alexlucatr@gmail.com</td>\n",
              "      <td>0738225650</td>\n",
              "      <td>10F Colegiul National de Informatica \"Tudor Vi...</td>\n",
              "    </tr>\n",
              "    <tr>\n",
              "      <th>61</th>\n",
              "      <td>2024/01/16 12:44:00 PM GMT+2</td>\n",
              "      <td>Azoiței Ingrid</td>\n",
              "      <td>ingridazoitei@gmail.com</td>\n",
              "      <td>0732369800</td>\n",
              "      <td>A 9-a C, CNI \"Tudor Vianu\"</td>\n",
              "    </tr>\n",
              "    <tr>\n",
              "      <th>62</th>\n",
              "      <td>2024/01/17 3:37:11 PM GMT+2</td>\n",
              "      <td>CATANET VANESSA</td>\n",
              "      <td>vanessa.catanet@gmail.com</td>\n",
              "      <td>0771735015</td>\n",
              "      <td>9 C, CNITV</td>\n",
              "    </tr>\n",
              "    <tr>\n",
              "      <th>63</th>\n",
              "      <td>2024/01/19 11:51:44 AM GMT+2</td>\n",
              "      <td>Vlad Tiberiu</td>\n",
              "      <td>tibi.vlad@gmail.com</td>\n",
              "      <td>0771406726</td>\n",
              "      <td>C.N.I. Tudor Vianu, a XIa D</td>\n",
              "    </tr>\n",
              "    <tr>\n",
              "      <th>64</th>\n",
              "      <td>2024/01/20 2:12:34 PM GMT+2</td>\n",
              "      <td>Ghinea Mihnea Dragos</td>\n",
              "      <td>mihneadragosghinea@gmail.com</td>\n",
              "      <td>0753568769</td>\n",
              "      <td>Cls a 9 a H, Tudor Vianu</td>\n",
              "    </tr>\n",
              "  </tbody>\n",
              "</table>\n",
              "<p>65 rows × 5 columns</p>\n",
              "</div>\n",
              "    <div class=\"colab-df-buttons\">\n",
              "\n",
              "  <div class=\"colab-df-container\">\n",
              "    <button class=\"colab-df-convert\" onclick=\"convertToInteractive('df-e666d66c-8b55-4c6e-b56c-78a109c54c79')\"\n",
              "            title=\"Convert this dataframe to an interactive table.\"\n",
              "            style=\"display:none;\">\n",
              "\n",
              "  <svg xmlns=\"http://www.w3.org/2000/svg\" height=\"24px\" viewBox=\"0 -960 960 960\">\n",
              "    <path d=\"M120-120v-720h720v720H120Zm60-500h600v-160H180v160Zm220 220h160v-160H400v160Zm0 220h160v-160H400v160ZM180-400h160v-160H180v160Zm440 0h160v-160H620v160ZM180-180h160v-160H180v160Zm440 0h160v-160H620v160Z\"/>\n",
              "  </svg>\n",
              "    </button>\n",
              "\n",
              "  <style>\n",
              "    .colab-df-container {\n",
              "      display:flex;\n",
              "      gap: 12px;\n",
              "    }\n",
              "\n",
              "    .colab-df-convert {\n",
              "      background-color: #E8F0FE;\n",
              "      border: none;\n",
              "      border-radius: 50%;\n",
              "      cursor: pointer;\n",
              "      display: none;\n",
              "      fill: #1967D2;\n",
              "      height: 32px;\n",
              "      padding: 0 0 0 0;\n",
              "      width: 32px;\n",
              "    }\n",
              "\n",
              "    .colab-df-convert:hover {\n",
              "      background-color: #E2EBFA;\n",
              "      box-shadow: 0px 1px 2px rgba(60, 64, 67, 0.3), 0px 1px 3px 1px rgba(60, 64, 67, 0.15);\n",
              "      fill: #174EA6;\n",
              "    }\n",
              "\n",
              "    .colab-df-buttons div {\n",
              "      margin-bottom: 4px;\n",
              "    }\n",
              "\n",
              "    [theme=dark] .colab-df-convert {\n",
              "      background-color: #3B4455;\n",
              "      fill: #D2E3FC;\n",
              "    }\n",
              "\n",
              "    [theme=dark] .colab-df-convert:hover {\n",
              "      background-color: #434B5C;\n",
              "      box-shadow: 0px 1px 3px 1px rgba(0, 0, 0, 0.15);\n",
              "      filter: drop-shadow(0px 1px 2px rgba(0, 0, 0, 0.3));\n",
              "      fill: #FFFFFF;\n",
              "    }\n",
              "  </style>\n",
              "\n",
              "    <script>\n",
              "      const buttonEl =\n",
              "        document.querySelector('#df-e666d66c-8b55-4c6e-b56c-78a109c54c79 button.colab-df-convert');\n",
              "      buttonEl.style.display =\n",
              "        google.colab.kernel.accessAllowed ? 'block' : 'none';\n",
              "\n",
              "      async function convertToInteractive(key) {\n",
              "        const element = document.querySelector('#df-e666d66c-8b55-4c6e-b56c-78a109c54c79');\n",
              "        const dataTable =\n",
              "          await google.colab.kernel.invokeFunction('convertToInteractive',\n",
              "                                                    [key], {});\n",
              "        if (!dataTable) return;\n",
              "\n",
              "        const docLinkHtml = 'Like what you see? Visit the ' +\n",
              "          '<a target=\"_blank\" href=https://colab.research.google.com/notebooks/data_table.ipynb>data table notebook</a>'\n",
              "          + ' to learn more about interactive tables.';\n",
              "        element.innerHTML = '';\n",
              "        dataTable['output_type'] = 'display_data';\n",
              "        await google.colab.output.renderOutput(dataTable, element);\n",
              "        const docLink = document.createElement('div');\n",
              "        docLink.innerHTML = docLinkHtml;\n",
              "        element.appendChild(docLink);\n",
              "      }\n",
              "    </script>\n",
              "  </div>\n",
              "\n",
              "\n",
              "<div id=\"df-81036ba3-29ec-4f2f-b40e-ef1712335edb\">\n",
              "  <button class=\"colab-df-quickchart\" onclick=\"quickchart('df-81036ba3-29ec-4f2f-b40e-ef1712335edb')\"\n",
              "            title=\"Suggest charts\"\n",
              "            style=\"display:none;\">\n",
              "\n",
              "<svg xmlns=\"http://www.w3.org/2000/svg\" height=\"24px\"viewBox=\"0 0 24 24\"\n",
              "     width=\"24px\">\n",
              "    <g>\n",
              "        <path d=\"M19 3H5c-1.1 0-2 .9-2 2v14c0 1.1.9 2 2 2h14c1.1 0 2-.9 2-2V5c0-1.1-.9-2-2-2zM9 17H7v-7h2v7zm4 0h-2V7h2v10zm4 0h-2v-4h2v4z\"/>\n",
              "    </g>\n",
              "</svg>\n",
              "  </button>\n",
              "\n",
              "<style>\n",
              "  .colab-df-quickchart {\n",
              "      --bg-color: #E8F0FE;\n",
              "      --fill-color: #1967D2;\n",
              "      --hover-bg-color: #E2EBFA;\n",
              "      --hover-fill-color: #174EA6;\n",
              "      --disabled-fill-color: #AAA;\n",
              "      --disabled-bg-color: #DDD;\n",
              "  }\n",
              "\n",
              "  [theme=dark] .colab-df-quickchart {\n",
              "      --bg-color: #3B4455;\n",
              "      --fill-color: #D2E3FC;\n",
              "      --hover-bg-color: #434B5C;\n",
              "      --hover-fill-color: #FFFFFF;\n",
              "      --disabled-bg-color: #3B4455;\n",
              "      --disabled-fill-color: #666;\n",
              "  }\n",
              "\n",
              "  .colab-df-quickchart {\n",
              "    background-color: var(--bg-color);\n",
              "    border: none;\n",
              "    border-radius: 50%;\n",
              "    cursor: pointer;\n",
              "    display: none;\n",
              "    fill: var(--fill-color);\n",
              "    height: 32px;\n",
              "    padding: 0;\n",
              "    width: 32px;\n",
              "  }\n",
              "\n",
              "  .colab-df-quickchart:hover {\n",
              "    background-color: var(--hover-bg-color);\n",
              "    box-shadow: 0 1px 2px rgba(60, 64, 67, 0.3), 0 1px 3px 1px rgba(60, 64, 67, 0.15);\n",
              "    fill: var(--button-hover-fill-color);\n",
              "  }\n",
              "\n",
              "  .colab-df-quickchart-complete:disabled,\n",
              "  .colab-df-quickchart-complete:disabled:hover {\n",
              "    background-color: var(--disabled-bg-color);\n",
              "    fill: var(--disabled-fill-color);\n",
              "    box-shadow: none;\n",
              "  }\n",
              "\n",
              "  .colab-df-spinner {\n",
              "    border: 2px solid var(--fill-color);\n",
              "    border-color: transparent;\n",
              "    border-bottom-color: var(--fill-color);\n",
              "    animation:\n",
              "      spin 1s steps(1) infinite;\n",
              "  }\n",
              "\n",
              "  @keyframes spin {\n",
              "    0% {\n",
              "      border-color: transparent;\n",
              "      border-bottom-color: var(--fill-color);\n",
              "      border-left-color: var(--fill-color);\n",
              "    }\n",
              "    20% {\n",
              "      border-color: transparent;\n",
              "      border-left-color: var(--fill-color);\n",
              "      border-top-color: var(--fill-color);\n",
              "    }\n",
              "    30% {\n",
              "      border-color: transparent;\n",
              "      border-left-color: var(--fill-color);\n",
              "      border-top-color: var(--fill-color);\n",
              "      border-right-color: var(--fill-color);\n",
              "    }\n",
              "    40% {\n",
              "      border-color: transparent;\n",
              "      border-right-color: var(--fill-color);\n",
              "      border-top-color: var(--fill-color);\n",
              "    }\n",
              "    60% {\n",
              "      border-color: transparent;\n",
              "      border-right-color: var(--fill-color);\n",
              "    }\n",
              "    80% {\n",
              "      border-color: transparent;\n",
              "      border-right-color: var(--fill-color);\n",
              "      border-bottom-color: var(--fill-color);\n",
              "    }\n",
              "    90% {\n",
              "      border-color: transparent;\n",
              "      border-bottom-color: var(--fill-color);\n",
              "    }\n",
              "  }\n",
              "</style>\n",
              "\n",
              "  <script>\n",
              "    async function quickchart(key) {\n",
              "      const quickchartButtonEl =\n",
              "        document.querySelector('#' + key + ' button');\n",
              "      quickchartButtonEl.disabled = true;  // To prevent multiple clicks.\n",
              "      quickchartButtonEl.classList.add('colab-df-spinner');\n",
              "      try {\n",
              "        const charts = await google.colab.kernel.invokeFunction(\n",
              "            'suggestCharts', [key], {});\n",
              "      } catch (error) {\n",
              "        console.error('Error during call to suggestCharts:', error);\n",
              "      }\n",
              "      quickchartButtonEl.classList.remove('colab-df-spinner');\n",
              "      quickchartButtonEl.classList.add('colab-df-quickchart-complete');\n",
              "    }\n",
              "    (() => {\n",
              "      let quickchartButtonEl =\n",
              "        document.querySelector('#df-81036ba3-29ec-4f2f-b40e-ef1712335edb button');\n",
              "      quickchartButtonEl.style.display =\n",
              "        google.colab.kernel.accessAllowed ? 'block' : 'none';\n",
              "    })();\n",
              "  </script>\n",
              "</div>\n",
              "    </div>\n",
              "  </div>\n"
            ]
          },
          "metadata": {},
          "execution_count": 70
        }
      ]
    },
    {
      "cell_type": "code",
      "source": [
        "data_set.head()"
      ],
      "metadata": {
        "colab": {
          "base_uri": "https://localhost:8080/",
          "height": 310
        },
        "id": "5sNpSohGCtVn",
        "outputId": "a7b4534b-299c-4fb9-91b4-5b8e7396850c"
      },
      "execution_count": 71,
      "outputs": [
        {
          "output_type": "execute_result",
          "data": {
            "text/plain": [
              "                      Timestamp  Nume si prenume                     Email  \\\n",
              "0  2023/12/19 10:28:50 AM GMT+2  Miu Ana Corina      cattara2008@gmail.com   \n",
              "1  2023/12/19 10:30:28 AM GMT+2     Trică Andrei  andrei.trica18@gmail.com   \n",
              "2  2023/12/19 12:13:24 PM GMT+2   Zambitchi Radu   radu.zambitki@gmail.com   \n",
              "3  2023/12/19 12:22:40 PM GMT+2  Gheorghe Bogdan     bogdanghe07@gmail.com   \n",
              "4  2023/12/19 12:25:45 PM GMT+2    Cristea David      emailhoria@yahoo.com   \n",
              "\n",
              "  Numar de telefon Clasa (si litera) si liceul  \n",
              "0       0737864046       Clasa a IX-a B, CNITV  \n",
              "1       0749764729                   CNITV, 9B  \n",
              "2       0758588118          CNI Tudor Vianu 9B  \n",
              "3       0741492912                  10 F CNITV  \n",
              "4       0741515782         Clasa a IX C- Vianu  "
            ],
            "text/html": [
              "\n",
              "  <div id=\"df-015c6c1d-62a7-46c7-b215-90b420b2d392\" class=\"colab-df-container\">\n",
              "    <div>\n",
              "<style scoped>\n",
              "    .dataframe tbody tr th:only-of-type {\n",
              "        vertical-align: middle;\n",
              "    }\n",
              "\n",
              "    .dataframe tbody tr th {\n",
              "        vertical-align: top;\n",
              "    }\n",
              "\n",
              "    .dataframe thead th {\n",
              "        text-align: right;\n",
              "    }\n",
              "</style>\n",
              "<table border=\"1\" class=\"dataframe\">\n",
              "  <thead>\n",
              "    <tr style=\"text-align: right;\">\n",
              "      <th></th>\n",
              "      <th>Timestamp</th>\n",
              "      <th>Nume si prenume</th>\n",
              "      <th>Email</th>\n",
              "      <th>Numar de telefon</th>\n",
              "      <th>Clasa (si litera) si liceul</th>\n",
              "    </tr>\n",
              "  </thead>\n",
              "  <tbody>\n",
              "    <tr>\n",
              "      <th>0</th>\n",
              "      <td>2023/12/19 10:28:50 AM GMT+2</td>\n",
              "      <td>Miu Ana Corina</td>\n",
              "      <td>cattara2008@gmail.com</td>\n",
              "      <td>0737864046</td>\n",
              "      <td>Clasa a IX-a B, CNITV</td>\n",
              "    </tr>\n",
              "    <tr>\n",
              "      <th>1</th>\n",
              "      <td>2023/12/19 10:30:28 AM GMT+2</td>\n",
              "      <td>Trică Andrei</td>\n",
              "      <td>andrei.trica18@gmail.com</td>\n",
              "      <td>0749764729</td>\n",
              "      <td>CNITV, 9B</td>\n",
              "    </tr>\n",
              "    <tr>\n",
              "      <th>2</th>\n",
              "      <td>2023/12/19 12:13:24 PM GMT+2</td>\n",
              "      <td>Zambitchi Radu</td>\n",
              "      <td>radu.zambitki@gmail.com</td>\n",
              "      <td>0758588118</td>\n",
              "      <td>CNI Tudor Vianu 9B</td>\n",
              "    </tr>\n",
              "    <tr>\n",
              "      <th>3</th>\n",
              "      <td>2023/12/19 12:22:40 PM GMT+2</td>\n",
              "      <td>Gheorghe Bogdan</td>\n",
              "      <td>bogdanghe07@gmail.com</td>\n",
              "      <td>0741492912</td>\n",
              "      <td>10 F CNITV</td>\n",
              "    </tr>\n",
              "    <tr>\n",
              "      <th>4</th>\n",
              "      <td>2023/12/19 12:25:45 PM GMT+2</td>\n",
              "      <td>Cristea David</td>\n",
              "      <td>emailhoria@yahoo.com</td>\n",
              "      <td>0741515782</td>\n",
              "      <td>Clasa a IX C- Vianu</td>\n",
              "    </tr>\n",
              "  </tbody>\n",
              "</table>\n",
              "</div>\n",
              "    <div class=\"colab-df-buttons\">\n",
              "\n",
              "  <div class=\"colab-df-container\">\n",
              "    <button class=\"colab-df-convert\" onclick=\"convertToInteractive('df-015c6c1d-62a7-46c7-b215-90b420b2d392')\"\n",
              "            title=\"Convert this dataframe to an interactive table.\"\n",
              "            style=\"display:none;\">\n",
              "\n",
              "  <svg xmlns=\"http://www.w3.org/2000/svg\" height=\"24px\" viewBox=\"0 -960 960 960\">\n",
              "    <path d=\"M120-120v-720h720v720H120Zm60-500h600v-160H180v160Zm220 220h160v-160H400v160Zm0 220h160v-160H400v160ZM180-400h160v-160H180v160Zm440 0h160v-160H620v160ZM180-180h160v-160H180v160Zm440 0h160v-160H620v160Z\"/>\n",
              "  </svg>\n",
              "    </button>\n",
              "\n",
              "  <style>\n",
              "    .colab-df-container {\n",
              "      display:flex;\n",
              "      gap: 12px;\n",
              "    }\n",
              "\n",
              "    .colab-df-convert {\n",
              "      background-color: #E8F0FE;\n",
              "      border: none;\n",
              "      border-radius: 50%;\n",
              "      cursor: pointer;\n",
              "      display: none;\n",
              "      fill: #1967D2;\n",
              "      height: 32px;\n",
              "      padding: 0 0 0 0;\n",
              "      width: 32px;\n",
              "    }\n",
              "\n",
              "    .colab-df-convert:hover {\n",
              "      background-color: #E2EBFA;\n",
              "      box-shadow: 0px 1px 2px rgba(60, 64, 67, 0.3), 0px 1px 3px 1px rgba(60, 64, 67, 0.15);\n",
              "      fill: #174EA6;\n",
              "    }\n",
              "\n",
              "    .colab-df-buttons div {\n",
              "      margin-bottom: 4px;\n",
              "    }\n",
              "\n",
              "    [theme=dark] .colab-df-convert {\n",
              "      background-color: #3B4455;\n",
              "      fill: #D2E3FC;\n",
              "    }\n",
              "\n",
              "    [theme=dark] .colab-df-convert:hover {\n",
              "      background-color: #434B5C;\n",
              "      box-shadow: 0px 1px 3px 1px rgba(0, 0, 0, 0.15);\n",
              "      filter: drop-shadow(0px 1px 2px rgba(0, 0, 0, 0.3));\n",
              "      fill: #FFFFFF;\n",
              "    }\n",
              "  </style>\n",
              "\n",
              "    <script>\n",
              "      const buttonEl =\n",
              "        document.querySelector('#df-015c6c1d-62a7-46c7-b215-90b420b2d392 button.colab-df-convert');\n",
              "      buttonEl.style.display =\n",
              "        google.colab.kernel.accessAllowed ? 'block' : 'none';\n",
              "\n",
              "      async function convertToInteractive(key) {\n",
              "        const element = document.querySelector('#df-015c6c1d-62a7-46c7-b215-90b420b2d392');\n",
              "        const dataTable =\n",
              "          await google.colab.kernel.invokeFunction('convertToInteractive',\n",
              "                                                    [key], {});\n",
              "        if (!dataTable) return;\n",
              "\n",
              "        const docLinkHtml = 'Like what you see? Visit the ' +\n",
              "          '<a target=\"_blank\" href=https://colab.research.google.com/notebooks/data_table.ipynb>data table notebook</a>'\n",
              "          + ' to learn more about interactive tables.';\n",
              "        element.innerHTML = '';\n",
              "        dataTable['output_type'] = 'display_data';\n",
              "        await google.colab.output.renderOutput(dataTable, element);\n",
              "        const docLink = document.createElement('div');\n",
              "        docLink.innerHTML = docLinkHtml;\n",
              "        element.appendChild(docLink);\n",
              "      }\n",
              "    </script>\n",
              "  </div>\n",
              "\n",
              "\n",
              "<div id=\"df-fb62c051-86b6-4708-ae93-7d6b912e428d\">\n",
              "  <button class=\"colab-df-quickchart\" onclick=\"quickchart('df-fb62c051-86b6-4708-ae93-7d6b912e428d')\"\n",
              "            title=\"Suggest charts\"\n",
              "            style=\"display:none;\">\n",
              "\n",
              "<svg xmlns=\"http://www.w3.org/2000/svg\" height=\"24px\"viewBox=\"0 0 24 24\"\n",
              "     width=\"24px\">\n",
              "    <g>\n",
              "        <path d=\"M19 3H5c-1.1 0-2 .9-2 2v14c0 1.1.9 2 2 2h14c1.1 0 2-.9 2-2V5c0-1.1-.9-2-2-2zM9 17H7v-7h2v7zm4 0h-2V7h2v10zm4 0h-2v-4h2v4z\"/>\n",
              "    </g>\n",
              "</svg>\n",
              "  </button>\n",
              "\n",
              "<style>\n",
              "  .colab-df-quickchart {\n",
              "      --bg-color: #E8F0FE;\n",
              "      --fill-color: #1967D2;\n",
              "      --hover-bg-color: #E2EBFA;\n",
              "      --hover-fill-color: #174EA6;\n",
              "      --disabled-fill-color: #AAA;\n",
              "      --disabled-bg-color: #DDD;\n",
              "  }\n",
              "\n",
              "  [theme=dark] .colab-df-quickchart {\n",
              "      --bg-color: #3B4455;\n",
              "      --fill-color: #D2E3FC;\n",
              "      --hover-bg-color: #434B5C;\n",
              "      --hover-fill-color: #FFFFFF;\n",
              "      --disabled-bg-color: #3B4455;\n",
              "      --disabled-fill-color: #666;\n",
              "  }\n",
              "\n",
              "  .colab-df-quickchart {\n",
              "    background-color: var(--bg-color);\n",
              "    border: none;\n",
              "    border-radius: 50%;\n",
              "    cursor: pointer;\n",
              "    display: none;\n",
              "    fill: var(--fill-color);\n",
              "    height: 32px;\n",
              "    padding: 0;\n",
              "    width: 32px;\n",
              "  }\n",
              "\n",
              "  .colab-df-quickchart:hover {\n",
              "    background-color: var(--hover-bg-color);\n",
              "    box-shadow: 0 1px 2px rgba(60, 64, 67, 0.3), 0 1px 3px 1px rgba(60, 64, 67, 0.15);\n",
              "    fill: var(--button-hover-fill-color);\n",
              "  }\n",
              "\n",
              "  .colab-df-quickchart-complete:disabled,\n",
              "  .colab-df-quickchart-complete:disabled:hover {\n",
              "    background-color: var(--disabled-bg-color);\n",
              "    fill: var(--disabled-fill-color);\n",
              "    box-shadow: none;\n",
              "  }\n",
              "\n",
              "  .colab-df-spinner {\n",
              "    border: 2px solid var(--fill-color);\n",
              "    border-color: transparent;\n",
              "    border-bottom-color: var(--fill-color);\n",
              "    animation:\n",
              "      spin 1s steps(1) infinite;\n",
              "  }\n",
              "\n",
              "  @keyframes spin {\n",
              "    0% {\n",
              "      border-color: transparent;\n",
              "      border-bottom-color: var(--fill-color);\n",
              "      border-left-color: var(--fill-color);\n",
              "    }\n",
              "    20% {\n",
              "      border-color: transparent;\n",
              "      border-left-color: var(--fill-color);\n",
              "      border-top-color: var(--fill-color);\n",
              "    }\n",
              "    30% {\n",
              "      border-color: transparent;\n",
              "      border-left-color: var(--fill-color);\n",
              "      border-top-color: var(--fill-color);\n",
              "      border-right-color: var(--fill-color);\n",
              "    }\n",
              "    40% {\n",
              "      border-color: transparent;\n",
              "      border-right-color: var(--fill-color);\n",
              "      border-top-color: var(--fill-color);\n",
              "    }\n",
              "    60% {\n",
              "      border-color: transparent;\n",
              "      border-right-color: var(--fill-color);\n",
              "    }\n",
              "    80% {\n",
              "      border-color: transparent;\n",
              "      border-right-color: var(--fill-color);\n",
              "      border-bottom-color: var(--fill-color);\n",
              "    }\n",
              "    90% {\n",
              "      border-color: transparent;\n",
              "      border-bottom-color: var(--fill-color);\n",
              "    }\n",
              "  }\n",
              "</style>\n",
              "\n",
              "  <script>\n",
              "    async function quickchart(key) {\n",
              "      const quickchartButtonEl =\n",
              "        document.querySelector('#' + key + ' button');\n",
              "      quickchartButtonEl.disabled = true;  // To prevent multiple clicks.\n",
              "      quickchartButtonEl.classList.add('colab-df-spinner');\n",
              "      try {\n",
              "        const charts = await google.colab.kernel.invokeFunction(\n",
              "            'suggestCharts', [key], {});\n",
              "      } catch (error) {\n",
              "        console.error('Error during call to suggestCharts:', error);\n",
              "      }\n",
              "      quickchartButtonEl.classList.remove('colab-df-spinner');\n",
              "      quickchartButtonEl.classList.add('colab-df-quickchart-complete');\n",
              "    }\n",
              "    (() => {\n",
              "      let quickchartButtonEl =\n",
              "        document.querySelector('#df-fb62c051-86b6-4708-ae93-7d6b912e428d button');\n",
              "      quickchartButtonEl.style.display =\n",
              "        google.colab.kernel.accessAllowed ? 'block' : 'none';\n",
              "    })();\n",
              "  </script>\n",
              "</div>\n",
              "    </div>\n",
              "  </div>\n"
            ]
          },
          "metadata": {},
          "execution_count": 71
        }
      ]
    },
    {
      "cell_type": "code",
      "source": [
        "data_set.head(10)"
      ],
      "metadata": {
        "colab": {
          "base_uri": "https://localhost:8080/",
          "height": 554
        },
        "id": "jPWYbDOTCwLI",
        "outputId": "a2926801-b53e-40a6-bd1f-23f374047644"
      },
      "execution_count": 72,
      "outputs": [
        {
          "output_type": "execute_result",
          "data": {
            "text/plain": [
              "                      Timestamp      Nume si prenume  \\\n",
              "0  2023/12/19 10:28:50 AM GMT+2      Miu Ana Corina    \n",
              "1  2023/12/19 10:30:28 AM GMT+2         Trică Andrei   \n",
              "2  2023/12/19 12:13:24 PM GMT+2       Zambitchi Radu   \n",
              "3  2023/12/19 12:22:40 PM GMT+2      Gheorghe Bogdan   \n",
              "4  2023/12/19 12:25:45 PM GMT+2        Cristea David   \n",
              "5  2023/12/19 12:29:18 PM GMT+2  Melintioi Alexandru   \n",
              "6  2023/12/19 12:38:58 PM GMT+2  Badea Lucian Andrei   \n",
              "7  2023/12/19 12:45:41 PM GMT+2    Nastase Alexandru   \n",
              "8  2023/12/19 12:57:03 PM GMT+2          Banu Robert   \n",
              "9   2023/12/19 1:03:20 PM GMT+2         Anghel Rares   \n",
              "\n",
              "                                           Email Numar de telefon  \\\n",
              "0                          cattara2008@gmail.com       0737864046   \n",
              "1                       andrei.trica18@gmail.com       0749764729   \n",
              "2                        radu.zambitki@gmail.com       0758588118   \n",
              "3                          bogdanghe07@gmail.com       0741492912   \n",
              "4                           emailhoria@yahoo.com       0741515782   \n",
              "5                alexandru.melintioi@outlook.com       0771411455   \n",
              "6                           lbadea1000@gmail.com       0771585139   \n",
              "7  nastase_alexandru_9f-23@lbiro.onmicrosoft.com       0736298249   \n",
              "8                     banurobertandrei@gmail.com       0774678664   \n",
              "9                      raresanghel2008@gmail.com       0733393301   \n",
              "\n",
              "             Clasa (si litera) si liceul  \n",
              "0                  Clasa a IX-a B, CNITV  \n",
              "1                              CNITV, 9B  \n",
              "2                     CNI Tudor Vianu 9B  \n",
              "3                             10 F CNITV  \n",
              "4                    Clasa a IX C- Vianu  \n",
              "5                              10E CNITV  \n",
              "6                             XI C Vianu  \n",
              "7                               9F CNITV  \n",
              "8  Clasa a IX-a, Colegiul Cantemir Vodă   \n",
              "9                               9G CNITV  "
            ],
            "text/html": [
              "\n",
              "  <div id=\"df-6e82758d-53d5-4b74-a6b9-b8b63b6a6725\" class=\"colab-df-container\">\n",
              "    <div>\n",
              "<style scoped>\n",
              "    .dataframe tbody tr th:only-of-type {\n",
              "        vertical-align: middle;\n",
              "    }\n",
              "\n",
              "    .dataframe tbody tr th {\n",
              "        vertical-align: top;\n",
              "    }\n",
              "\n",
              "    .dataframe thead th {\n",
              "        text-align: right;\n",
              "    }\n",
              "</style>\n",
              "<table border=\"1\" class=\"dataframe\">\n",
              "  <thead>\n",
              "    <tr style=\"text-align: right;\">\n",
              "      <th></th>\n",
              "      <th>Timestamp</th>\n",
              "      <th>Nume si prenume</th>\n",
              "      <th>Email</th>\n",
              "      <th>Numar de telefon</th>\n",
              "      <th>Clasa (si litera) si liceul</th>\n",
              "    </tr>\n",
              "  </thead>\n",
              "  <tbody>\n",
              "    <tr>\n",
              "      <th>0</th>\n",
              "      <td>2023/12/19 10:28:50 AM GMT+2</td>\n",
              "      <td>Miu Ana Corina</td>\n",
              "      <td>cattara2008@gmail.com</td>\n",
              "      <td>0737864046</td>\n",
              "      <td>Clasa a IX-a B, CNITV</td>\n",
              "    </tr>\n",
              "    <tr>\n",
              "      <th>1</th>\n",
              "      <td>2023/12/19 10:30:28 AM GMT+2</td>\n",
              "      <td>Trică Andrei</td>\n",
              "      <td>andrei.trica18@gmail.com</td>\n",
              "      <td>0749764729</td>\n",
              "      <td>CNITV, 9B</td>\n",
              "    </tr>\n",
              "    <tr>\n",
              "      <th>2</th>\n",
              "      <td>2023/12/19 12:13:24 PM GMT+2</td>\n",
              "      <td>Zambitchi Radu</td>\n",
              "      <td>radu.zambitki@gmail.com</td>\n",
              "      <td>0758588118</td>\n",
              "      <td>CNI Tudor Vianu 9B</td>\n",
              "    </tr>\n",
              "    <tr>\n",
              "      <th>3</th>\n",
              "      <td>2023/12/19 12:22:40 PM GMT+2</td>\n",
              "      <td>Gheorghe Bogdan</td>\n",
              "      <td>bogdanghe07@gmail.com</td>\n",
              "      <td>0741492912</td>\n",
              "      <td>10 F CNITV</td>\n",
              "    </tr>\n",
              "    <tr>\n",
              "      <th>4</th>\n",
              "      <td>2023/12/19 12:25:45 PM GMT+2</td>\n",
              "      <td>Cristea David</td>\n",
              "      <td>emailhoria@yahoo.com</td>\n",
              "      <td>0741515782</td>\n",
              "      <td>Clasa a IX C- Vianu</td>\n",
              "    </tr>\n",
              "    <tr>\n",
              "      <th>5</th>\n",
              "      <td>2023/12/19 12:29:18 PM GMT+2</td>\n",
              "      <td>Melintioi Alexandru</td>\n",
              "      <td>alexandru.melintioi@outlook.com</td>\n",
              "      <td>0771411455</td>\n",
              "      <td>10E CNITV</td>\n",
              "    </tr>\n",
              "    <tr>\n",
              "      <th>6</th>\n",
              "      <td>2023/12/19 12:38:58 PM GMT+2</td>\n",
              "      <td>Badea Lucian Andrei</td>\n",
              "      <td>lbadea1000@gmail.com</td>\n",
              "      <td>0771585139</td>\n",
              "      <td>XI C Vianu</td>\n",
              "    </tr>\n",
              "    <tr>\n",
              "      <th>7</th>\n",
              "      <td>2023/12/19 12:45:41 PM GMT+2</td>\n",
              "      <td>Nastase Alexandru</td>\n",
              "      <td>nastase_alexandru_9f-23@lbiro.onmicrosoft.com</td>\n",
              "      <td>0736298249</td>\n",
              "      <td>9F CNITV</td>\n",
              "    </tr>\n",
              "    <tr>\n",
              "      <th>8</th>\n",
              "      <td>2023/12/19 12:57:03 PM GMT+2</td>\n",
              "      <td>Banu Robert</td>\n",
              "      <td>banurobertandrei@gmail.com</td>\n",
              "      <td>0774678664</td>\n",
              "      <td>Clasa a IX-a, Colegiul Cantemir Vodă</td>\n",
              "    </tr>\n",
              "    <tr>\n",
              "      <th>9</th>\n",
              "      <td>2023/12/19 1:03:20 PM GMT+2</td>\n",
              "      <td>Anghel Rares</td>\n",
              "      <td>raresanghel2008@gmail.com</td>\n",
              "      <td>0733393301</td>\n",
              "      <td>9G CNITV</td>\n",
              "    </tr>\n",
              "  </tbody>\n",
              "</table>\n",
              "</div>\n",
              "    <div class=\"colab-df-buttons\">\n",
              "\n",
              "  <div class=\"colab-df-container\">\n",
              "    <button class=\"colab-df-convert\" onclick=\"convertToInteractive('df-6e82758d-53d5-4b74-a6b9-b8b63b6a6725')\"\n",
              "            title=\"Convert this dataframe to an interactive table.\"\n",
              "            style=\"display:none;\">\n",
              "\n",
              "  <svg xmlns=\"http://www.w3.org/2000/svg\" height=\"24px\" viewBox=\"0 -960 960 960\">\n",
              "    <path d=\"M120-120v-720h720v720H120Zm60-500h600v-160H180v160Zm220 220h160v-160H400v160Zm0 220h160v-160H400v160ZM180-400h160v-160H180v160Zm440 0h160v-160H620v160ZM180-180h160v-160H180v160Zm440 0h160v-160H620v160Z\"/>\n",
              "  </svg>\n",
              "    </button>\n",
              "\n",
              "  <style>\n",
              "    .colab-df-container {\n",
              "      display:flex;\n",
              "      gap: 12px;\n",
              "    }\n",
              "\n",
              "    .colab-df-convert {\n",
              "      background-color: #E8F0FE;\n",
              "      border: none;\n",
              "      border-radius: 50%;\n",
              "      cursor: pointer;\n",
              "      display: none;\n",
              "      fill: #1967D2;\n",
              "      height: 32px;\n",
              "      padding: 0 0 0 0;\n",
              "      width: 32px;\n",
              "    }\n",
              "\n",
              "    .colab-df-convert:hover {\n",
              "      background-color: #E2EBFA;\n",
              "      box-shadow: 0px 1px 2px rgba(60, 64, 67, 0.3), 0px 1px 3px 1px rgba(60, 64, 67, 0.15);\n",
              "      fill: #174EA6;\n",
              "    }\n",
              "\n",
              "    .colab-df-buttons div {\n",
              "      margin-bottom: 4px;\n",
              "    }\n",
              "\n",
              "    [theme=dark] .colab-df-convert {\n",
              "      background-color: #3B4455;\n",
              "      fill: #D2E3FC;\n",
              "    }\n",
              "\n",
              "    [theme=dark] .colab-df-convert:hover {\n",
              "      background-color: #434B5C;\n",
              "      box-shadow: 0px 1px 3px 1px rgba(0, 0, 0, 0.15);\n",
              "      filter: drop-shadow(0px 1px 2px rgba(0, 0, 0, 0.3));\n",
              "      fill: #FFFFFF;\n",
              "    }\n",
              "  </style>\n",
              "\n",
              "    <script>\n",
              "      const buttonEl =\n",
              "        document.querySelector('#df-6e82758d-53d5-4b74-a6b9-b8b63b6a6725 button.colab-df-convert');\n",
              "      buttonEl.style.display =\n",
              "        google.colab.kernel.accessAllowed ? 'block' : 'none';\n",
              "\n",
              "      async function convertToInteractive(key) {\n",
              "        const element = document.querySelector('#df-6e82758d-53d5-4b74-a6b9-b8b63b6a6725');\n",
              "        const dataTable =\n",
              "          await google.colab.kernel.invokeFunction('convertToInteractive',\n",
              "                                                    [key], {});\n",
              "        if (!dataTable) return;\n",
              "\n",
              "        const docLinkHtml = 'Like what you see? Visit the ' +\n",
              "          '<a target=\"_blank\" href=https://colab.research.google.com/notebooks/data_table.ipynb>data table notebook</a>'\n",
              "          + ' to learn more about interactive tables.';\n",
              "        element.innerHTML = '';\n",
              "        dataTable['output_type'] = 'display_data';\n",
              "        await google.colab.output.renderOutput(dataTable, element);\n",
              "        const docLink = document.createElement('div');\n",
              "        docLink.innerHTML = docLinkHtml;\n",
              "        element.appendChild(docLink);\n",
              "      }\n",
              "    </script>\n",
              "  </div>\n",
              "\n",
              "\n",
              "<div id=\"df-4c3fed70-7bc3-469a-9f94-f44dd69ac4c7\">\n",
              "  <button class=\"colab-df-quickchart\" onclick=\"quickchart('df-4c3fed70-7bc3-469a-9f94-f44dd69ac4c7')\"\n",
              "            title=\"Suggest charts\"\n",
              "            style=\"display:none;\">\n",
              "\n",
              "<svg xmlns=\"http://www.w3.org/2000/svg\" height=\"24px\"viewBox=\"0 0 24 24\"\n",
              "     width=\"24px\">\n",
              "    <g>\n",
              "        <path d=\"M19 3H5c-1.1 0-2 .9-2 2v14c0 1.1.9 2 2 2h14c1.1 0 2-.9 2-2V5c0-1.1-.9-2-2-2zM9 17H7v-7h2v7zm4 0h-2V7h2v10zm4 0h-2v-4h2v4z\"/>\n",
              "    </g>\n",
              "</svg>\n",
              "  </button>\n",
              "\n",
              "<style>\n",
              "  .colab-df-quickchart {\n",
              "      --bg-color: #E8F0FE;\n",
              "      --fill-color: #1967D2;\n",
              "      --hover-bg-color: #E2EBFA;\n",
              "      --hover-fill-color: #174EA6;\n",
              "      --disabled-fill-color: #AAA;\n",
              "      --disabled-bg-color: #DDD;\n",
              "  }\n",
              "\n",
              "  [theme=dark] .colab-df-quickchart {\n",
              "      --bg-color: #3B4455;\n",
              "      --fill-color: #D2E3FC;\n",
              "      --hover-bg-color: #434B5C;\n",
              "      --hover-fill-color: #FFFFFF;\n",
              "      --disabled-bg-color: #3B4455;\n",
              "      --disabled-fill-color: #666;\n",
              "  }\n",
              "\n",
              "  .colab-df-quickchart {\n",
              "    background-color: var(--bg-color);\n",
              "    border: none;\n",
              "    border-radius: 50%;\n",
              "    cursor: pointer;\n",
              "    display: none;\n",
              "    fill: var(--fill-color);\n",
              "    height: 32px;\n",
              "    padding: 0;\n",
              "    width: 32px;\n",
              "  }\n",
              "\n",
              "  .colab-df-quickchart:hover {\n",
              "    background-color: var(--hover-bg-color);\n",
              "    box-shadow: 0 1px 2px rgba(60, 64, 67, 0.3), 0 1px 3px 1px rgba(60, 64, 67, 0.15);\n",
              "    fill: var(--button-hover-fill-color);\n",
              "  }\n",
              "\n",
              "  .colab-df-quickchart-complete:disabled,\n",
              "  .colab-df-quickchart-complete:disabled:hover {\n",
              "    background-color: var(--disabled-bg-color);\n",
              "    fill: var(--disabled-fill-color);\n",
              "    box-shadow: none;\n",
              "  }\n",
              "\n",
              "  .colab-df-spinner {\n",
              "    border: 2px solid var(--fill-color);\n",
              "    border-color: transparent;\n",
              "    border-bottom-color: var(--fill-color);\n",
              "    animation:\n",
              "      spin 1s steps(1) infinite;\n",
              "  }\n",
              "\n",
              "  @keyframes spin {\n",
              "    0% {\n",
              "      border-color: transparent;\n",
              "      border-bottom-color: var(--fill-color);\n",
              "      border-left-color: var(--fill-color);\n",
              "    }\n",
              "    20% {\n",
              "      border-color: transparent;\n",
              "      border-left-color: var(--fill-color);\n",
              "      border-top-color: var(--fill-color);\n",
              "    }\n",
              "    30% {\n",
              "      border-color: transparent;\n",
              "      border-left-color: var(--fill-color);\n",
              "      border-top-color: var(--fill-color);\n",
              "      border-right-color: var(--fill-color);\n",
              "    }\n",
              "    40% {\n",
              "      border-color: transparent;\n",
              "      border-right-color: var(--fill-color);\n",
              "      border-top-color: var(--fill-color);\n",
              "    }\n",
              "    60% {\n",
              "      border-color: transparent;\n",
              "      border-right-color: var(--fill-color);\n",
              "    }\n",
              "    80% {\n",
              "      border-color: transparent;\n",
              "      border-right-color: var(--fill-color);\n",
              "      border-bottom-color: var(--fill-color);\n",
              "    }\n",
              "    90% {\n",
              "      border-color: transparent;\n",
              "      border-bottom-color: var(--fill-color);\n",
              "    }\n",
              "  }\n",
              "</style>\n",
              "\n",
              "  <script>\n",
              "    async function quickchart(key) {\n",
              "      const quickchartButtonEl =\n",
              "        document.querySelector('#' + key + ' button');\n",
              "      quickchartButtonEl.disabled = true;  // To prevent multiple clicks.\n",
              "      quickchartButtonEl.classList.add('colab-df-spinner');\n",
              "      try {\n",
              "        const charts = await google.colab.kernel.invokeFunction(\n",
              "            'suggestCharts', [key], {});\n",
              "      } catch (error) {\n",
              "        console.error('Error during call to suggestCharts:', error);\n",
              "      }\n",
              "      quickchartButtonEl.classList.remove('colab-df-spinner');\n",
              "      quickchartButtonEl.classList.add('colab-df-quickchart-complete');\n",
              "    }\n",
              "    (() => {\n",
              "      let quickchartButtonEl =\n",
              "        document.querySelector('#df-4c3fed70-7bc3-469a-9f94-f44dd69ac4c7 button');\n",
              "      quickchartButtonEl.style.display =\n",
              "        google.colab.kernel.accessAllowed ? 'block' : 'none';\n",
              "    })();\n",
              "  </script>\n",
              "</div>\n",
              "    </div>\n",
              "  </div>\n"
            ]
          },
          "metadata": {},
          "execution_count": 72
        }
      ]
    },
    {
      "cell_type": "code",
      "source": [
        "data_set.head(5)[\"Email\"]"
      ],
      "metadata": {
        "id": "xiiqIWidCzId",
        "colab": {
          "base_uri": "https://localhost:8080/"
        },
        "outputId": "36926006-206f-49d8-9776-65c7be431828"
      },
      "execution_count": 82,
      "outputs": [
        {
          "output_type": "execute_result",
          "data": {
            "text/plain": [
              "0       cattara2008@gmail.com\n",
              "1    andrei.trica18@gmail.com\n",
              "2     radu.zambitki@gmail.com\n",
              "3       bogdanghe07@gmail.com\n",
              "4        emailhoria@yahoo.com\n",
              "Name: Email, dtype: object"
            ]
          },
          "metadata": {},
          "execution_count": 82
        }
      ]
    },
    {
      "cell_type": "code",
      "source": [],
      "metadata": {
        "id": "Oqo4hz3Gq0zi"
      },
      "execution_count": null,
      "outputs": []
    }
  ]
}